{
  "nbformat": 4,
  "nbformat_minor": 0,
  "metadata": {
    "colab": {
      "name": "Pila.ipynb",
      "provenance": [],
      "authorship_tag": "ABX9TyPgrqlbs0MccbHczZ4DXpW1",
      "include_colab_link": true
    },
    "kernelspec": {
      "name": "python3",
      "display_name": "Python 3"
    }
  },
  "cells": [
    {
      "cell_type": "markdown",
      "metadata": {
        "id": "view-in-github",
        "colab_type": "text"
      },
      "source": [
        "<a href=\"https://colab.research.google.com/github/dianafvx17/daa_2021_1_Laberinto/blob/main/Pila.ipynb\" target=\"_parent\"><img src=\"https://colab.research.google.com/assets/colab-badge.svg\" alt=\"Open In Colab\"/></a>"
      ]
    },
    {
      "cell_type": "code",
      "metadata": {
        "id": "qdenNGYezREv"
      },
      "source": [
        "class Stack:\r\n",
        "  def __init__(self):\r\n",
        "    self.__data=[]\r\n",
        "  def to_string(self):\r\n",
        "    for i in self.__data:\r\n",
        "      print(f\"| {i} |\")\r\n",
        "  def is_empty(self):\r\n",
        "    return len(self.__data)==0\r\n",
        "  def length(self):\r\n",
        "    return len(self.__data)\r\n",
        "  def push(self,value):\r\n",
        "    self.__data.append(value)\r\n",
        "  def pop(self):\r\n",
        "\t  if len(self.__data)>0:\r\n",
        "      return self.__data.pop()\r\n",
        "  def peek():\r\n",
        "\t  if len(self.__data)>0:\r\n",
        "      return self.__data[len(self.__data)-1]"
      ],
      "execution_count": null,
      "outputs": []
    }
  ]
}